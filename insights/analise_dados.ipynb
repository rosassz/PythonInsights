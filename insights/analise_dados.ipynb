{
 "cells": [
  {
   "cell_type": "code",
   "execution_count": null,
   "metadata": {},
   "outputs": [],
   "source": [
    "# Passo 1: Importar\n",
    "import pandas\n",
    "base_dados = pandas.read_csv(\"cancelamentos_sample.csv\")\n",
    "\n",
    "# Passo 2: Visualizar e filtrar dados\n",
    "    #Remover coluna inútil (não interferem nos dados a serem analisados)\n",
    "base_dados = base_dados.drop(columns=[\"CustomerID\"])\n",
    "    # Remover valores vazios (pode ser tratado dessa forma devido a quantidade desconsiderável de valores nulos)\n",
    "base_dados = base_dados.dropna()\n",
    "\n",
    "display(base_dados)\n",
    "base_dados.info()\n",
    "\n",
    "# Passo 3: Analisar \n",
    "base_dados[\"cancelou\"].value_counts(normalize=True) # .map(\"{:.1%}\".format)"
   ]
  },
  {
   "cell_type": "code",
   "execution_count": null,
   "metadata": {},
   "outputs": [],
   "source": [
    "# Passo 4: Interpretar \n",
    "import plotly.express as px\n",
    "\n",
    "for coluna in base_dados.columns:\n",
    "    if coluna != \"cancelou\":\n",
    "        grafico = px.histogram(base_dados, x=coluna, color=\"cancelou\")\n",
    "        grafico.show()"
   ]
  },
  {
   "cell_type": "code",
   "execution_count": null,
   "metadata": {},
   "outputs": [],
   "source": [
    "#Após a visualição superficial dos gráficos, é possível descartar alguns para melhorar a visualização:\n",
    "# Gráficos desconsideráveis:\n",
    "base_dados = base_dados.drop(columns=[\"sexo\", \"tempo_como_cliente\", \"frequencia_uso\", \"assinatura\", \"meses_ultima_interacao\"])\n",
    "\n",
    "for coluna in base_dados.columns:\n",
    "    if coluna != \"cancelou\":\n",
    "        grafico = px.histogram(base_dados, x=coluna, color=\"cancelou\")\n",
    "        grafico.show()"
   ]
  },
  {
   "cell_type": "code",
   "execution_count": null,
   "metadata": {},
   "outputs": [],
   "source": [
    "# Passo 5: Solucionar e filtrar o problema\n",
    "\n",
    "# 1- Duração de contrato: Clientes do contrato mensal cancelam:\n",
    "# Possível medida: Dar desconto nos planos anuais e trimestrais;\n",
    "# limitar prestação de serviço ao fim do período mensal a fim de convencer a renovação do plano.\n",
    "filtro_duracao_contrato = base_dados[\"duracao_contrato\"]!=\"monthly\"\n",
    "base_dados_filtrada = base_dados[filtro_duracao_contrato]\n",
    "\n",
    "# 2- Dias de atraso: Clientes com mais de 20 dias de atraso cancelam:\n",
    "# Possível medida: Entrar em contato com o cliente inadimplente para possíveis negociações após 15 dias de atraso.  \n",
    "filtro_dias_atraso = base_dados_filtrada[\"dias_atraso\"]<20\n",
    "base_dados_filtrada = base_dados_filtrada[filtro_dias_atraso]\n",
    "\n",
    "# 3- Ligações ao callcenter: Clientes começam a cancelar após 4 ligações ao callcenter:\n",
    "# Possível medida: Contabilizar a quantidade de ligações dos clientes e dar prioridade aqueles que ligarem mais vezes.\n",
    "filtro_callcenter = base_dados_filtrada[\"ligacoes_callcenter\"]<4\n",
    "base_dados_filtrada = base_dados_filtrada[filtro_callcenter]\n",
    "\n",
    "# 4- Idade: Clientes acima de 50 anos cancelam:\n",
    "# OBS: Analisar o serviço prestado para geração de projetos inclusivos.\n",
    "\n",
    "# 5- Total gasto: Clientes que gastam menos de R$500 totais cancelam:\n",
    "# OBS: Analisar o serviço prestado para desenvolver estratégias de marketing.\n",
    "\n",
    "display(base_dados[\"cancelou\"].value_counts(normalize=True))\n",
    "display(base_dados_filtrada[\"cancelou\"].value_counts(normalize=True))\n",
    "\n",
    "melhoras_previstas = (base_dados_filtrada[\"cancelou\"].value_counts(normalize=True) - base_dados[\"cancelou\"].value_counts(normalize=True))\n",
    "display(melhoras_previstas)"
   ]
  }
 ],
 "metadata": {
  "kernelspec": {
   "display_name": "base",
   "language": "python",
   "name": "python3"
  },
  "language_info": {
   "codemirror_mode": {
    "name": "ipython",
    "version": 3
   },
   "file_extension": ".py",
   "mimetype": "text/x-python",
   "name": "python",
   "nbconvert_exporter": "python",
   "pygments_lexer": "ipython3",
   "version": "3.12.3"
  },
  "orig_nbformat": 4
 },
 "nbformat": 4,
 "nbformat_minor": 2
}
